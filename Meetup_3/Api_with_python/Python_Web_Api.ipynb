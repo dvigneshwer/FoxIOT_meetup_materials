{
 "cells": [
  {
   "cell_type": "markdown",
   "metadata": {},
   "source": [
    "# Understanding Api's with python"
   ]
  },
  {
   "cell_type": "code",
   "execution_count": 1,
   "metadata": {
    "collapsed": false
   },
   "outputs": [
    {
     "name": "stdout",
     "output_type": "stream",
     "text": [
      "                      __     __,\n",
      "                      \\,`~\"~` /\n",
      "      .-=-.           /    . .\\\n",
      "     / .-. \\          {  =    Y}=\n",
      "    (_/   \\ \\          \\      / \n",
      "           \\ \\        _/`'`'`b\n",
      "            \\ `.__.-'`        \\-._\n",
      "             |            '.__ `'-;_\n",
      "             |            _.' `'-.__)\n",
      "              \\    ;_..-`'/     //  \\\n",
      "              |   /  /   |     //    |\n",
      "              \\  \\ \\__)   \\   //    /\n",
      "               \\__)  \n"
     ]
    }
   ],
   "source": [
    "from urllib2 import Request, urlopen, URLError\n",
    "\n",
    "request = Request('http://placekitten.com/')\n",
    "\n",
    "try:\n",
    "\tresponse = urlopen(request)\n",
    "\tkittens = response.read()\n",
    "\tprint kittens[559:1000]\n",
    "except URLError, e:\n",
    "    print 'No kittez. Got an error code:', e"
   ]
  },
  {
   "cell_type": "markdown",
   "metadata": {},
   "source": [
    "\t\t\t\t\t\t\t##########\n",
    "\t\t\t\t\t\t\t# Server #\n",
    "\t\t\t\t\t\t\t##########\n",
    "\t\t\t\t\t  #\t\t##########     #\n",
    "\t\t\t\t\t#\t\t##########\t \t #\n",
    "\t\t\t\t  #\t\t\t\t\t\t\t   #\n",
    "\t\t\t\t#\t\t #\t\t #\t\t #\t     #\n",
    "\t\t#######\t\t    #\t\t #\t\t  #\t\t   #######\n",
    "\t\t#Client\t\t   #\t\t #\t\t   #\t   #Client\n",
    "\t\t#######\t\t  #\t\t\t #\t\t    #\t   #######\n",
    "\t\t\t\t   #######\t  #######    #######\n",
    "\t\t\t\t   #Client\t  #Client\t #Client\n",
    "\t\t\t\t   #######\t  #######\t #######"
   ]
  },
  {
   "cell_type": "code",
   "execution_count": 2,
   "metadata": {
    "collapsed": true
   },
   "outputs": [],
   "source": [
    "from urllib2 import urlopen\n",
    "\n",
    "kittens = urlopen('http://placekitten.com/200/300')\n",
    "\n",
    "f = open('kittens.jpg', 'wb')\n",
    "f.write(kittens.read())\n",
    "f.close()"
   ]
  },
  {
   "cell_type": "markdown",
   "metadata": {},
   "source": [
    "![Kittens](kittens.jpg \"Kittens\")"
   ]
  },
  {
   "cell_type": "code",
   "execution_count": 4,
   "metadata": {
    "collapsed": false
   },
   "outputs": [
    {
     "name": "stdout",
     "output_type": "stream",
     "text": [
      "                      __     __,\n",
      "                      \\,`~\"~` /\n",
      "      .-=-.           /    . .\\\n",
      "     / .-. \\          {  =    Y}=\n",
      "    (_/   \\ \\          \\      / \n",
      "           \\ \\        _/`'`'`b\n",
      "            \\ `.__.-'`        \\-._\n",
      "             |            '.__ `'-;_\n",
      "             |            _.' `'-.__)\n",
      "              \\    ;_..-`'/     //  \\\n",
      "              |   /  /   |     //    |\n",
      "              \\  \\ \\__)   \\   //    /\n",
      "               \\__)  \n"
     ]
    }
   ],
   "source": [
    "import requests\n",
    "\n",
    "# Make a GET request here and assign the result to kittens:\n",
    "kittens = requests.get(\"http://placekitten.com/\")\n",
    "\n",
    "print kittens.text[559:1000]"
   ]
  },
  {
   "cell_type": "markdown",
   "metadata": {},
   "source": [
    "An HTTP request is made up of three parts:\n",
    "\n",
    "The request line, which tells the server what kind of request is being sent (GET, POST, etc.) and what resource it's looking for\n",
    "\n",
    "The header, which sends the server additional information (such as which client is making the request)\n",
    "\n",
    "The body, which can be empty (as in a GET request) or contain data (if you're POSTing or PUTing information, that information is contained here).\n",
    "\n",
    "############ Request line #############\n",
    " POST /learn-http HTTP/1.1\n",
    "\n",
    "############## Header ################\n",
    "Host: www.dvigneshwer.com\n",
    "Content-Type: text/html; charset=UTF-8\n",
    "\n",
    "############### Body #################\n",
    "Name=viki&Age=22"
   ]
  },
  {
   "cell_type": "markdown",
   "metadata": {},
   "source": [
    "Many APIs require an API key. Just as a real-world key allows you to access something, an API key grants you access to a particular API. Moreover, an API key identifies you to the API, which helps the API provider keep track of how their service is used and prevent unauthorized or malicious activity.\n",
    "\n",
    "Some APIs require authentication using a protocol called OAuth\n",
    "\n",
    "ex: api_key = \"FtHwuH8w1RDjQpOr0y0gF3AWm8sRsRzncK3hHh9\""
   ]
  },
  {
   "cell_type": "code",
   "execution_count": 6,
   "metadata": {
    "collapsed": false
   },
   "outputs": [
    {
     "name": "stdout",
     "output_type": "stream",
     "text": [
      "200\n"
     ]
    }
   ],
   "source": [
    "import requests\n",
    "\n",
    "response = requests.get('http://placekitten.com/')\n",
    "\n",
    "# Add your code below!\n",
    "print response.status_code"
   ]
  },
  {
   "cell_type": "markdown",
   "metadata": {},
   "source": [
    "HTTP Status Codes\n",
    "A successful request to the server results in a response, which is the message the server sends back to you, the client.\n",
    "\n",
    "The response from the server will contain a three-digit status code. These codes can start with a 1, 2, 3, 4, or 5, and each set of codes means something different.\n",
    "\n",
    "1xx: You won't see these a lot. The server is saying, \"Got it! I'm working on your request.\"\n",
    "\n",
    "2xx: These mean \"okay!\" The server sends these when it's successfully responding to your request.\n",
    "\n",
    "3xx: These mean \"I can do what you want, but I have to do something else first.\" You might see this if a website has changed addresses and you're using the old one; the server might have to reroute the request before it can get you the resource you asked for.\n",
    "\n",
    "4xx: These mean you probably made a mistake. The most famous is \"404,\" meaning \"file not found\": you asked for a resource or web page that doesn't exist.\n",
    "\n",
    "5xx: These mean the server goofed up and can't successfully respond to your request.\n",
    "\n",
    "https://en.wikipedia.org/wiki/List_of_HTTP_status_codes"
   ]
  },
  {
   "cell_type": "code",
   "execution_count": 7,
   "metadata": {
    "collapsed": false
   },
   "outputs": [
    {
     "name": "stdout",
     "output_type": "stream",
     "text": [
      "{'x-powered-by': 'PleskLin', 'transfer-encoding': 'chunked', 'set-cookie': '__cfduid=d2cd99a1ad7a3f0a0e0c464c9410793951474263353; expires=Tue, 19-Sep-17 05:35:53 GMT; path=/; domain=.placekitten.com; HttpOnly', 'content-encoding': 'gzip', 'server': 'cloudflare-nginx', 'connection': 'keep-alive', 'cache-control': 'max-age=7200, must-revalidate', 'date': 'Mon, 19 Sep 2016 05:35:53 GMT', 'access-control-allow-origin': '*', 'content-type': 'text/html', 'cf-ray': '2e4aad4546122de5-BOM'}\n"
     ]
    }
   ],
   "source": [
    "################## Example response ##########################\n",
    "# HTTP/1.1 200 OK\n",
    "# Content-Type: text/xml; charset=UTF-8\n",
    "\n",
    "# <?xml version=\"1.0\" encoding=\"utf-8\"?>\n",
    "# <string xmlns=\"https://www.codecademy.com/\">Accepted</string>\n",
    "##############################################################\n",
    "\n",
    "import requests\n",
    "response = requests.get(\"http://placekitten.com/\")\n",
    "\n",
    "# print the header information from the response\n",
    "print response.headers"
   ]
  },
  {
   "cell_type": "markdown",
   "metadata": {},
   "source": [
    "XML (which stands for eXtensible Markup Language) is very similar to HTML—it uses tags between angle brackets. The difference is that XML allows you to use tags that you make up, rather than tags that the W3C decided on. For instance, you could create an API that returns information about a pet:\n",
    "\n",
    "~~~~\n",
    "<pet>\n",
    "  <name>Jeffrey</name>\n",
    "  <species>Giraffe</species>\n",
    "</pet>\n",
    "~~~~\n",
    "\n",
    "\n",
    "As long as you document the structure of your API's response, other people can use your API to get information about <pet>s."
   ]
  },
  {
   "cell_type": "markdown",
   "metadata": {},
   "source": [
    "JSON (which stands for JavaScript Object Notation) is an alternative to XML. It gets its name from the fact that its data format resembles JavaScript objects, and it is often more succinct than the equivalent XML. For instance, our same <pet> Jeffrey would look like this in JSON:\n",
    "~~~~\n",
    "{\n",
    "  \"pets\": {\n",
    "    \"name\": \"Jeffrey\",\n",
    "    \"species\": \"Giraffe\"\n",
    "  }\n",
    "}\n",
    "~~~~"
   ]
  },
  {
   "cell_type": "code",
   "execution_count": 19,
   "metadata": {
    "collapsed": false
   },
   "outputs": [
    {
     "name": "stdout",
     "output_type": "stream",
     "text": [
      "------------------------------\n",
      " Result\t\n",
      "------------------------------\n",
      "OverallRating :  Not Rated\n",
      "RolloverPossibility :  0\n",
      "SideCrashPassengersideRating :  Not Rated\n",
      "OverallFrontCrashRating :  Not Rated\n",
      "VehicleId :  11474\n",
      "SideCrashDriversideRating :  Not Rated\n",
      "FrontCrashPassengersideRating :  Not Rated\n",
      "Make :  BMW\n",
      "VehicleDescription :  2017 BMW I3 5 HB RWD\n",
      "FrontCrashDriversideRating :  Not Rated\n",
      "InvestigationCount :  0\n",
      "RolloverPossibility2 :  0\n",
      "RecallsCount :  0\n",
      "ComplaintsCount :  0\n",
      "RolloverRating :  Not Rated\n",
      "RolloverRating2 :  Not Rated\n",
      "SidePoleCrashRating :  Not Rated\n",
      "Model :  I3\n",
      "OverallSideCrashRating :  Not Rated\n",
      "ModelYear :  2017\n"
     ]
    }
   ],
   "source": [
    "from urllib2 import urlopen\n",
    "from json import load\n",
    "\n",
    "apiUrl = \"http://www.nhtsa.gov/webapi/api/SafetyRatings\"\n",
    "# apiParam = \"\"\n",
    "# apiParam = \"/ModelYear/2017\"\n",
    "# apiParam = \"/ModelYear/2017/Make/BMW/\"\n",
    "# apiParam = \"/ModelYear/2017/Make/BMW/Model/I3\"\n",
    "apiParam = \"/VehicleId/11474\"\n",
    "outputFormat = \"?format=json\"\n",
    "\n",
    "#Combine all three variables to make up the complete request URL\n",
    "response = urlopen(apiUrl + apiParam + outputFormat)\n",
    "\n",
    "#code below is only to handle JSON response object/format\n",
    "\n",
    "#use equivalent sets of commands to handle xml response object/format\n",
    "json_obj = load(response)\n",
    "\n",
    "#Load the Result (vehicle collection) from the JSON response\n",
    "print '------------------------------'\n",
    "print ' Result\t'\n",
    "print '------------------------------'\n",
    "for objectCollection in json_obj['Results']:\n",
    "# Loop each vehicle in the vehicles collection\n",
    "    for safetyRatingAttribute, safetyRatingValue in objectCollection.iteritems():\n",
    "        print safetyRatingAttribute, \": \", safetyRatingValue\n"
   ]
  },
  {
   "cell_type": "code",
   "execution_count": null,
   "metadata": {
    "collapsed": false
   },
   "outputs": [],
   "source": []
  }
 ],
 "metadata": {
  "kernelspec": {
   "display_name": "Python 2",
   "language": "python",
   "name": "python2"
  },
  "language_info": {
   "codemirror_mode": {
    "name": "ipython",
    "version": 2
   },
   "file_extension": ".py",
   "mimetype": "text/x-python",
   "name": "python",
   "nbconvert_exporter": "python",
   "pygments_lexer": "ipython2",
   "version": "2.7.6"
  }
 },
 "nbformat": 4,
 "nbformat_minor": 1
}
