{
 "cells": [
  {
   "cell_type": "markdown",
   "metadata": {},
   "source": [
    "# Python Basic"
   ]
  },
  {
   "cell_type": "code",
   "execution_count": 2,
   "metadata": {
    "collapsed": false
   },
   "outputs": [
    {
     "name": "stdout",
     "output_type": "stream",
     "text": [
      "Welcome to Python!\n",
      "Hi i am happy to start off with python \n"
     ]
    }
   ],
   "source": [
    "print \"Welcome to Python!\"\n",
    "print \"Hi i am happy to start off with python \""
   ]
  },
  {
   "cell_type": "code",
   "execution_count": 3,
   "metadata": {
    "collapsed": false
   },
   "outputs": [
    {
     "name": "stdout",
     "output_type": "stream",
     "text": [
      "7\n",
      "1.23\n",
      "True\n"
     ]
    }
   ],
   "source": [
    "#Declaring variables\n",
    "my_int = 7\n",
    "my_float = 1.23\n",
    "my_bool = True\n",
    "\n",
    "print my_int\n",
    "print my_float\n",
    "print my_bool\n"
   ]
  },
  {
   "cell_type": "code",
   "execution_count": 5,
   "metadata": {
    "collapsed": false
   },
   "outputs": [
    {
     "ename": "IndentationError",
     "evalue": "expected an indented block (<ipython-input-5-597b13143f1d>, line 2)",
     "output_type": "error",
     "traceback": [
      "\u001b[0;36m  File \u001b[0;32m\"<ipython-input-5-597b13143f1d>\"\u001b[0;36m, line \u001b[0;32m2\u001b[0m\n\u001b[0;31m    eggs = 12\u001b[0m\n\u001b[0m       ^\u001b[0m\n\u001b[0;31mIndentationError\u001b[0m\u001b[0;31m:\u001b[0m expected an indented block\n"
     ]
    }
   ],
   "source": [
    "def spam():\n",
    "eggs = 12\n",
    "return eggs\n",
    "        \n",
    "print spam()"
   ]
  },
  {
   "cell_type": "code",
   "execution_count": 8,
   "metadata": {
    "collapsed": false
   },
   "outputs": [
    {
     "name": "stdout",
     "output_type": "stream",
     "text": [
      "12\n"
     ]
    }
   ],
   "source": [
    "#indentation\n",
    "def spam():\n",
    "    eggs = 12\n",
    "    return eggs\n",
    "\n",
    "print spam()"
   ]
  },
  {
   "cell_type": "code",
   "execution_count": 7,
   "metadata": {
    "collapsed": false
   },
   "outputs": [
    {
     "name": "stdout",
     "output_type": "stream",
     "text": [
      "11111100\n",
      "100\n",
      "1\n"
     ]
    }
   ],
   "source": [
    "\"\"\" \n",
    "Mathematical operations\n",
    "\"\"\"\n",
    "\n",
    "count_to = 1234560 + 9876540\n",
    "print count_to\n",
    "\n",
    "eggs = 10 ** 2\n",
    "print eggs\n",
    "\n",
    "spam = 5 % 4\n",
    "print spam\n"
   ]
  },
  {
   "cell_type": "code",
   "execution_count": 9,
   "metadata": {
    "collapsed": false
   },
   "outputs": [
    {
     "name": "stdout",
     "output_type": "stream",
     "text": [
      "O\n",
      "14\n",
      "norwegian blue\n",
      "NORWEGIAN BLUE\n"
     ]
    }
   ],
   "source": [
    "fifth_letter = \"PYTHON\"[4] \n",
    "print fifth_letter\n",
    "\n",
    "parrot = \"Norwegian Blue\"\n",
    "len(parrot) \n",
    "print len(parrot)\n",
    "print parrot.lower()\n",
    "print parrot.upper()"
   ]
  },
  {
   "cell_type": "code",
   "execution_count": 12,
   "metadata": {
    "collapsed": false
   },
   "outputs": [
    {
     "name": "stdout",
     "output_type": "stream",
     "text": [
      "3.14\n",
      "The value of pi is around 3.14\n",
      "The value of pi is around 3.140000\n"
     ]
    }
   ],
   "source": [
    "pi = 3.14\n",
    "str(pi)\n",
    "print pi\n",
    "print \"The value of pi is around \" + str(pi) \n",
    "print \"The value of pi is around %f\" % (pi)"
   ]
  },
  {
   "cell_type": "code",
   "execution_count": 10,
   "metadata": {
    "collapsed": false
   },
   "outputs": [
    {
     "name": "stdout",
     "output_type": "stream",
     "text": [
      "Let's not go to Camelot. its a silly place.\n"
     ]
    }
   ],
   "source": [
    "string_1 = \"Camelot\"\n",
    "string_2 = \"place\"\n",
    "\n",
    "print \"Let's not go to %s. its a silly %s.\" % (string_1, string_2)"
   ]
  },
  {
   "cell_type": "code",
   "execution_count": 13,
   "metadata": {
    "collapsed": false
   },
   "outputs": [
    {
     "name": "stdout",
     "output_type": "stream",
     "text": [
      "What is your name?abhi\n",
      "What is your quest?learn python\n",
      "What is your favorite color?orange\n",
      "Ah, so your name is abhi, your quest is learn python, and your favorite color is orange.\n"
     ]
    }
   ],
   "source": [
    "name = raw_input(\"What is your name?\")\n",
    "quest = raw_input(\"What is your quest?\")\n",
    "color = raw_input(\"What is your favorite color?\")\n",
    "\n",
    "print \"Ah, so your name is %s, your quest is %s, \" \\\n",
    "\"and your favorite color is %s.\" % (name, quest, color)"
   ]
  },
  {
   "cell_type": "code",
   "execution_count": 12,
   "metadata": {
    "collapsed": false
   },
   "outputs": [
    {
     "name": "stdout",
     "output_type": "stream",
     "text": [
      "2016-07-30 12:07:24.786357\n",
      "2016\n",
      "7\n",
      "30\n"
     ]
    }
   ],
   "source": [
    "from datetime import datetime\n",
    "\n",
    "now = datetime.now()\n",
    "print now\n",
    "print now.year\n",
    "print now.month\n",
    "print now.day"
   ]
  },
  {
   "cell_type": "code",
   "execution_count": 13,
   "metadata": {
    "collapsed": false
   },
   "outputs": [
    {
     "name": "stdout",
     "output_type": "stream",
     "text": [
      "2016/7/30\n",
      "7/30/2016 12:7:24\n"
     ]
    }
   ],
   "source": [
    "print '%s/%s/%s' % (now.year, now.month, now.day)\n",
    "\n",
    "print '%s/%s/%s %s:%s:%s' % (now.month, now.day, now.year, now.hour, now.minute, now.second)"
   ]
  },
  {
   "cell_type": "code",
   "execution_count": 14,
   "metadata": {
    "collapsed": false
   },
   "outputs": [
    {
     "name": "stdout",
     "output_type": "stream",
     "text": [
      "T\n"
     ]
    }
   ],
   "source": [
    "response = 'Y'\n",
    "\n",
    "answer = \"Left\"\n",
    "if answer == \"Left\":\n",
    "    print \"T\""
   ]
  },
  {
   "cell_type": "code",
   "execution_count": 15,
   "metadata": {
    "collapsed": false
   },
   "outputs": [
    {
     "name": "stdout",
     "output_type": "stream",
     "text": [
      "-1\n",
      "0\n",
      "1\n"
     ]
    }
   ],
   "source": [
    "def greater_less_equal_5(answer):\n",
    "    if answer>5:\n",
    "        return 1\n",
    "    elif answer< 5:          \n",
    "        return -1\n",
    "    else:\n",
    "        return 0\n",
    "        \n",
    "print greater_less_equal_5(4)\n",
    "print greater_less_equal_5(5)\n",
    "print greater_less_equal_5(6)"
   ]
  },
  {
   "cell_type": "code",
   "execution_count": 16,
   "metadata": {
    "collapsed": false
   },
   "outputs": [
    {
     "name": "stdout",
     "output_type": "stream",
     "text": [
      "5.0\n"
     ]
    }
   ],
   "source": [
    "import math\n",
    "print math.sqrt(25)"
   ]
  },
  {
   "cell_type": "code",
   "execution_count": null,
   "metadata": {
    "collapsed": false
   },
   "outputs": [],
   "source": [
    "#Import sqrt from math module\n",
    "from math import sqrt\n",
    "sqrt(25)"
   ]
  },
  {
   "cell_type": "code",
   "execution_count": 17,
   "metadata": {
    "collapsed": false
   },
   "outputs": [
    {
     "data": {
      "text/plain": [
       "5.0"
      ]
     },
     "execution_count": 17,
     "metadata": {},
     "output_type": "execute_result"
    }
   ],
   "source": [
    "# Import *everything* from the math module\n",
    "from math import *\n",
    "sqrt(25)"
   ]
  },
  {
   "cell_type": "code",
   "execution_count": 18,
   "metadata": {
    "collapsed": false
   },
   "outputs": [
    {
     "name": "stdout",
     "output_type": "stream",
     "text": [
      "10\n",
      "-10\n",
      "10\n"
     ]
    },
    {
     "data": {
      "text/plain": [
       "10"
      ]
     },
     "execution_count": 18,
     "metadata": {},
     "output_type": "execute_result"
    }
   ],
   "source": [
    "def biggest_number(*args):\n",
    "    print max(args)\n",
    "    return max(args)\n",
    "    \n",
    "def smallest_number(*args):\n",
    "    print min(args)\n",
    "    return min(args)\n",
    "\n",
    "def distance_from_zero(arg):\n",
    "    print abs(arg)\n",
    "    return abs(arg)\n",
    "\n",
    "\n",
    "biggest_number(-10, -5, 5, 10)\n",
    "smallest_number(-10, -5, 5, 10)\n",
    "distance_from_zero(-10)"
   ]
  },
  {
   "cell_type": "code",
   "execution_count": 19,
   "metadata": {
    "collapsed": false
   },
   "outputs": [
    {
     "name": "stdout",
     "output_type": "stream",
     "text": [
      "<type 'int'>\n",
      "<type 'float'>\n",
      "<type 'str'>\n"
     ]
    }
   ],
   "source": [
    "print type(42)\n",
    "print type(4.2)\n",
    "print type('spam')"
   ]
  },
  {
   "cell_type": "code",
   "execution_count": 20,
   "metadata": {
    "collapsed": false
   },
   "outputs": [
    {
     "name": "stdout",
     "output_type": "stream",
     "text": [
      "The first animal at the zoo is the pangolin\n",
      "The second animal at the zoo is the cassowary\n",
      "The third animal at the zoo is the sloth\n",
      "The fourth animal at the zoo is the monkey\n",
      "['sunglasses', 'hat']\n",
      "['passport', 'laptop']\n",
      "['suit', 'shoes']\n",
      "cat\n",
      "dog\n",
      "frog\n"
     ]
    }
   ],
   "source": [
    "#list and dictionary\n",
    "\n",
    "#Introduction to list\n",
    "zoo_animals = [\"pangolin\", \"cassowary\", \"sloth\", \"monkey\"];\n",
    "# One animal is missing!\n",
    "\n",
    "if len(zoo_animals) > 3:\n",
    "\tprint \"The first animal at the zoo is the \" + zoo_animals[0]\n",
    "\tprint \"The second animal at the zoo is the \" + zoo_animals[1]\n",
    "\tprint \"The third animal at the zoo is the \" + zoo_animals[2]\n",
    "\tprint \"The fourth animal at the zoo is the \" + zoo_animals[3]\n",
    "    \n",
    "suitcase = [\"sunglasses\", \"hat\", \"passport\", \"laptop\", \"suit\", \"shoes\"]\n",
    "\n",
    "first  = suitcase[0:2]  # The first and second items (index zero and one)\n",
    "middle = suitcase[2:4]  # Third and fourth items (index two and three)\n",
    "last   = suitcase[4:6]   # The last two items (index four and five)\n",
    "\n",
    "print first\n",
    "print middle\n",
    "print last\n",
    "\n",
    "animals = \"catdogfrog\"\n",
    "cat  =  animals[:3]   # The first three characters of animals\n",
    "dog  =  animals[3:6]             # The fourth through sixth characters\n",
    "frog =  animals[6:11] # From the seventh character to the end\n",
    "\n",
    "print cat\n",
    "print dog\n",
    "print frog"
   ]
  },
  {
   "cell_type": "code",
   "execution_count": 31,
   "metadata": {
    "collapsed": false
   },
   "outputs": [
    {
     "name": "stdout",
     "output_type": "stream",
     "text": [
      "my name is viki\n",
      "my\n",
      "name\n",
      "is\n",
      "viki\n",
      "['1', '2']\n",
      "3\n",
      "['2', '3']\n"
     ]
    }
   ],
   "source": [
    "my_name=\"my name is viki\"\n",
    "print my_name\n",
    "\n",
    "print my_name[:2]\n",
    "print my_name[3:7]\n",
    "print my_name[8:10]\n",
    "print my_name[11:15]\n",
    "\n",
    "my_list=[\"1\",\"2\",\"3\"]\n",
    "print my_list[:2]\n",
    "print my_list[2]\n",
    "x=1\n",
    "y=3\n",
    "print my_list[x:y]"
   ]
  },
  {
   "cell_type": "code",
   "execution_count": 32,
   "metadata": {
    "collapsed": false
   },
   "outputs": [
    {
     "name": "stdout",
     "output_type": "stream",
     "text": [
      "['aardvark', 'badger', 'cobra', 'duck', 'emu', 'fennec fox']\n"
     ]
    }
   ],
   "source": [
    "animals = [\"aardvark\", \"badger\", \"duck\", \"emu\", \"fennec fox\"]\n",
    "duck_index = animals.index(\"duck\")\n",
    "animals.insert(duck_index ,\"cobra\")\n",
    "print animals"
   ]
  },
  {
   "cell_type": "code",
   "execution_count": 33,
   "metadata": {
    "collapsed": false
   },
   "outputs": [
    {
     "name": "stdout",
     "output_type": "stream",
     "text": [
      "[1, 4, 9, 16, 25]\n"
     ]
    }
   ],
   "source": [
    "start_list = [5, 3, 1, 2, 4]\n",
    "square_list = []\n",
    "\n",
    "for number in start_list:\n",
    "    square_list.append(number**2)\n",
    "    square_list.sort()\n",
    "\n",
    "print square_list"
   ]
  },
  {
   "cell_type": "code",
   "execution_count": 34,
   "metadata": {
    "collapsed": false
   },
   "outputs": [
    {
     "name": "stdout",
     "output_type": "stream",
     "text": [
      "104\n",
      "105\n",
      "106\n"
     ]
    }
   ],
   "source": [
    "# Assigning a dictionary with three key-value pairs to residents:\n",
    "residents = {'Puffin' : 104, 'Sloth' : 105, 'Burmese Python' : 106}\n",
    "\n",
    "print residents['Puffin']\n",
    "print residents['Sloth']\n",
    "print residents['Burmese Python']"
   ]
  },
  {
   "cell_type": "code",
   "execution_count": 35,
   "metadata": {
    "collapsed": false
   },
   "outputs": [
    {
     "name": "stdout",
     "output_type": "stream",
     "text": [
      "['xylophone', 'tent', 'bread loaf']\n"
     ]
    }
   ],
   "source": [
    "backpack = ['xylophone', 'dagger', 'tent', 'bread loaf']\n",
    "backpack.remove(\"dagger\")\n",
    "print backpack"
   ]
  },
  {
   "cell_type": "code",
   "execution_count": 36,
   "metadata": {
    "collapsed": false
   },
   "outputs": [
    {
     "name": "stdout",
     "output_type": "stream",
     "text": [
      "{'backpack': ['xylophone', 'dagger', 'bedroll', 'bread loaf'], 'pouch': ['flint', 'gemstone', 'twine'], 'burlap bag': ['apple', 'small ruby', 'three-toed sloth'], 'gold': 500}\n"
     ]
    }
   ],
   "source": [
    "inventory = {\n",
    "    'gold' : 500,\n",
    "    'pouch' : ['flint', 'twine', 'gemstone'], # Assigned a new list to 'pouch' key\n",
    "    'backpack' : ['xylophone','dagger', 'bedroll','bread loaf']\n",
    "}\n",
    "\n",
    "# Adding a key 'burlap bag' and assigning a list to it\n",
    "inventory['burlap bag'] = ['apple', 'small ruby', 'three-toed sloth']\n",
    "\n",
    "# Sorting the list found under the key 'pouch'\n",
    "inventory['pouch'].sort() \n",
    "\n",
    "print inventory"
   ]
  },
  {
   "cell_type": "code",
   "execution_count": 37,
   "metadata": {
    "collapsed": false
   },
   "outputs": [
    {
     "name": "stdout",
     "output_type": "stream",
     "text": [
      "[1, 3, 5, 4]\n"
     ]
    }
   ],
   "source": [
    "n = [1, 3, 5]\n",
    "# Append the number 4 here\n",
    "n.append(4)\n",
    "print n"
   ]
  },
  {
   "cell_type": "code",
   "execution_count": 38,
   "metadata": {
    "collapsed": false
   },
   "outputs": [
    {
     "name": "stdout",
     "output_type": "stream",
     "text": [
      "[3, 5]\n"
     ]
    }
   ],
   "source": [
    "n = [1, 3, 5]\n",
    "# Remove the first item in the list here\n",
    "n.remove(1)\n",
    "print n"
   ]
  },
  {
   "cell_type": "code",
   "execution_count": 39,
   "metadata": {
    "collapsed": false
   },
   "outputs": [
    {
     "name": "stdout",
     "output_type": "stream",
     "text": [
      "[1, 2, 3, 4, 5, 6, 7, 8, 9]\n"
     ]
    }
   ],
   "source": [
    "n = [[1, 2, 3], [4, 5, 6, 7, 8, 9]]\n",
    "# Add your function here\n",
    "\n",
    "def flatten(lists):\n",
    "    results=[]\n",
    "    for numbers in lists:\n",
    "        for i in numbers:\n",
    "            results.append(i)\n",
    "    return results\n",
    "\n",
    "print flatten(n)"
   ]
  },
  {
   "cell_type": "code",
   "execution_count": 40,
   "metadata": {
    "collapsed": false
   },
   "outputs": [
    {
     "name": "stdout",
     "output_type": "stream",
     "text": [
      "<type 'int'>\n",
      "Hello, I am an if statement and count is 0\n",
      "Hello, I am a while and count is 0\n",
      "Hello, I am a while and count is 1\n",
      "Hello, I am a while and count is 2\n",
      "Hello, I am a while and count is 3\n",
      "Hello, I am a while and count is 4\n",
      "Hello, I am a while and count is 5\n",
      "Hello, I am a while and count is 6\n",
      "Hello, I am a while and count is 7\n",
      "Hello, I am a while and count is 8\n",
      "Hello, I am a while and count is 9\n"
     ]
    }
   ],
   "source": [
    "count = 0\n",
    "\n",
    "print type(count)\n",
    "\n",
    "if count < 5:\n",
    "    print \"Hello, I am an if statement and count is\", count\n",
    "    \n",
    "while count < 10:\n",
    "    print \"Hello, I am a while and count is\", count\n",
    "    count += 1"
   ]
  },
  {
   "cell_type": "code",
   "execution_count": 41,
   "metadata": {
    "collapsed": false
   },
   "outputs": [
    {
     "name": "stdout",
     "output_type": "stream",
     "text": [
      "0\n",
      "1\n",
      "2\n",
      "3\n",
      "4\n",
      "5\n",
      "6\n",
      "7\n",
      "8\n",
      "9\n"
     ]
    }
   ],
   "source": [
    "count = 0\n",
    "\n",
    "while True:\n",
    "    print count\n",
    "    count += 1\n",
    "    if count >= 10:\n",
    "        break"
   ]
  },
  {
   "cell_type": "code",
   "execution_count": 42,
   "metadata": {
    "collapsed": false
   },
   "outputs": [
    {
     "name": "stdout",
     "output_type": "stream",
     "text": [
      "This list contains: \n",
      "7\n",
      "9\n",
      "12\n",
      "54\n",
      "99\n",
      "*************\n",
      "49\n",
      "81\n",
      "144\n",
      "2916\n",
      "9801\n"
     ]
    }
   ],
   "source": [
    "numbers  = [7, 9, 12, 54, 99]\n",
    "\n",
    "print \"This list contains: \"\n",
    "\n",
    "for num in numbers:\n",
    "    print num\n",
    "\n",
    "print \"*************\"\n",
    "\n",
    "for num in numbers:\n",
    "    print num**2"
   ]
  },
  {
   "cell_type": "code",
   "execution_count": 43,
   "metadata": {
    "collapsed": false
   },
   "outputs": [
    {
     "name": "stdout",
     "output_type": "stream",
     "text": [
      "1045.5\n",
      "80.4230769231\n",
      "334.071005917\n",
      "18.2776094147\n"
     ]
    }
   ],
   "source": [
    "grades = [100, 100, 90, 40, 80, 100, 85, 70, 90, 65, 90, 85, 50.5]\n",
    "\n",
    "def grades_sum(scores):\n",
    "    total= 0\n",
    "    for item in scores:\n",
    "        total += item\n",
    "    return total\n",
    "\n",
    "print grades_sum(grades)\n",
    "\n",
    "def grades_average(grades):\n",
    "    s = grades_sum(grades)\n",
    "    a = s/float(len(grades))\n",
    "    return a \n",
    "\n",
    "print grades_average(grades)\n",
    "\n",
    "\n",
    "def grades_variance(scores):\n",
    "    average = grades_average(scores)\n",
    "    variance = 0\n",
    "    for score in scores:\n",
    "        variance =  (average - score)**2 + variance\n",
    "    result = variance/float(len(scores))\n",
    "    return result\n",
    "\n",
    "def grades_std_deviation(variance):\n",
    "    return variance ** 0.5\n",
    "    \n",
    "variance = grades_variance(grades)\n",
    "print variance\n",
    "print grades_std_deviation(variance)\n"
   ]
  },
  {
   "cell_type": "code",
   "execution_count": 46,
   "metadata": {
    "collapsed": false
   },
   "outputs": [
    {
     "name": "stdout",
     "output_type": "stream",
     "text": [
      "[('Age', 21), ('Name', 'Viki')]\n",
      "['Age', 'Name']\n",
      "[21, 'Viki']\n",
      "21\n",
      "Viki\n",
      "Age 21\n",
      "Name Viki\n"
     ]
    }
   ],
   "source": [
    "my_dict = {\n",
    "    \"Name\" : \"Viki\",\n",
    "    \"Age\" : 21\n",
    "    }\n",
    "print my_dict.items()\n",
    "print my_dict.keys()\n",
    "print my_dict.values()\n",
    "\n",
    "for i in my_dict.keys():\n",
    "    print my_dict[i]\n",
    "    \n",
    "for i in my_dict:\n",
    "    print i, my_dict[i]"
   ]
  },
  {
   "cell_type": "code",
   "execution_count": 47,
   "metadata": {
    "collapsed": false
   },
   "outputs": [
    {
     "name": "stdout",
     "output_type": "stream",
     "text": [
      "[8, 64, 216, 512, 1000]\n"
     ]
    }
   ],
   "source": [
    "cubes_by_four = [ x**3 for x in range(1,11) if (x**3)%4 ==0]\n",
    "print cubes_by_four"
   ]
  },
  {
   "cell_type": "code",
   "execution_count": 50,
   "metadata": {
    "collapsed": false
   },
   "outputs": [
    {
     "name": "stdout",
     "output_type": "stream",
     "text": [
      "[1, 2, 3, 4, 5, 6, 7, 8, 9, 10, 11, 12, 13, 14, 15, 16, 17, 18, 19, 20, 21]\n",
      "[1, 3, 5, 7, 9, 11, 13, 15, 17, 19, 21]\n",
      "[8, 9, 10, 11, 12, 13, 14]\n"
     ]
    }
   ],
   "source": [
    "to_21 = range(1,22)\n",
    "\n",
    "odds = to_21[::2]\n",
    "middle_third= to_21[7:14]\n",
    "\n",
    "print to_21\n",
    "print odds\n",
    "print middle_third"
   ]
  },
  {
   "cell_type": "code",
   "execution_count": 51,
   "metadata": {
    "collapsed": false
   },
   "outputs": [
    {
     "name": "stdout",
     "output_type": "stream",
     "text": [
      "[1, 4, 9, 16, 25, 36, 49, 64, 81, 100]\n",
      "[36, 49, 64]\n"
     ]
    }
   ],
   "source": [
    "squares = [x**2 for x in range(1 ,11)]\n",
    "print squares\n",
    "print filter(lambda x:x >=30 and x <=70 ,squares  )"
   ]
  },
  {
   "cell_type": "code",
   "execution_count": 52,
   "metadata": {
    "collapsed": false
   },
   "outputs": [
    {
     "name": "stdout",
     "output_type": "stream",
     "text": [
      "I am another secret message!\n"
     ]
    }
   ],
   "source": [
    "garbled = \"IXXX aXXmX aXXXnXoXXXXXtXhXeXXXXrX sXXXXeXcXXXrXeXt mXXeXsXXXsXaXXXXXXgXeX!XX\"\n",
    "message = filter( lambda x:x != 'X' , garbled)\n",
    "print message"
   ]
  },
  {
   "cell_type": "code",
   "execution_count": 53,
   "metadata": {
    "collapsed": false
   },
   "outputs": [
    {
     "name": "stdout",
     "output_type": "stream",
     "text": [
      "0\n",
      "10\n",
      "0\n",
      "13\n",
      "38\n",
      "-89\n"
     ]
    }
   ],
   "source": [
    "print 5 >> 4  # Right Shift\n",
    "print 5 << 1  # Left Shift\n",
    "print 8 & 5   # Bitwise AND\n",
    "print 9 | 4   # Bitwise OR\n",
    "print 12 ^ 42 # Bitwise XOR\n",
    "print ~88     # Bitwise NOT"
   ]
  },
  {
   "cell_type": "code",
   "execution_count": 54,
   "metadata": {
    "collapsed": false
   },
   "outputs": [
    {
     "name": "stdout",
     "output_type": "stream",
     "text": [
      "1 2 3 4 5 6 7\n",
      "******\n",
      "4\n",
      "9\n"
     ]
    }
   ],
   "source": [
    "print 0b1,    #1\n",
    "print 0b10,   #2\n",
    "print 0b11,   #3\n",
    "print 0b100,  #4\n",
    "print 0b101,  #5\n",
    "print 0b110,  #6\n",
    "print 0b111   #7\n",
    "print \"******\"\n",
    "print 0b1 + 0b11\n",
    "print 0b11 * 0b11\n"
   ]
  },
  {
   "cell_type": "code",
   "execution_count": 55,
   "metadata": {
    "collapsed": false
   },
   "outputs": [
    {
     "name": "stdout",
     "output_type": "stream",
     "text": [
      "0b10\n",
      "0b11\n",
      "0b100\n",
      "0b101\n"
     ]
    }
   ],
   "source": [
    "print bin(2)\n",
    "print bin(3)\n",
    "print bin(4)\n",
    "print bin(5)\n"
   ]
  },
  {
   "cell_type": "code",
   "execution_count": 56,
   "metadata": {
    "collapsed": false
   },
   "outputs": [
    {
     "name": "stdout",
     "output_type": "stream",
     "text": [
      "1\n",
      "2\n",
      "7\n",
      "4\n",
      "5\n"
     ]
    }
   ],
   "source": [
    "print int(\"1\",2)\n",
    "print int(\"10\",2)\n",
    "print int(\"111\",2)\n",
    "print int(\"0b100\",2)\n",
    "print int(bin(5),2)"
   ]
  },
  {
   "cell_type": "code",
   "execution_count": 1,
   "metadata": {
    "collapsed": false
   },
   "outputs": [
    {
     "name": "stdout",
     "output_type": "stream",
     "text": [
      "0b11\n",
      "0b100\n"
     ]
    }
   ],
   "source": [
    "shift_right = 0b1100\n",
    "shift_left = 0b1\n",
    "\n",
    "# Your code here!\n",
    "shift_right = shift_right >> 2\n",
    "shift_left = shift_left << 2\n",
    "\n",
    "print bin(shift_right)\n",
    "print bin(shift_left)"
   ]
  },
  {
   "cell_type": "code",
   "execution_count": 2,
   "metadata": {
    "collapsed": false
   },
   "outputs": [
    {
     "name": "stdout",
     "output_type": "stream",
     "text": [
      "I'm a yellow lemon and I taste sour.\n",
      "Yep! I'm edible.\n"
     ]
    }
   ],
   "source": [
    "class Fruit(object):\n",
    "    \"\"\"A class that makes various tasty fruits.\"\"\"\n",
    "    def __init__(self, name, color, flavor, poisonous):\n",
    "        self.name = name\n",
    "        self.color = color\n",
    "        self.flavor = flavor\n",
    "        self.poisonous = poisonous\n",
    "\n",
    "    def description(self):\n",
    "        print \"I'm a %s %s and I taste %s.\" % (self.color, self.name, self.flavor)\n",
    "\n",
    "    def is_edible(self):\n",
    "        if not self.poisonous:\n",
    "            print \"Yep! I'm edible.\"\n",
    "        else:\n",
    "            print \"Don't eat me! I am super poisonous.\"\n",
    "\n",
    "lemon = Fruit(\"lemon\", \"yellow\", \"sour\", False)\n",
    "\n",
    "orange = Fruit(\"or\",\"or\",\"tasty\",False)\n",
    "\n",
    "lemon.description()\n",
    "lemon.is_edible()"
   ]
  },
  {
   "cell_type": "code",
   "execution_count": 3,
   "metadata": {
    "collapsed": false
   },
   "outputs": [
    {
     "name": "stdout",
     "output_type": "stream",
     "text": [
      "qwe added.\n",
      "qwe1 added.\n",
      "qwe2 added.\n",
      "qwe3 added.\n",
      "qwe4 added.\n",
      "qwe5 is not in the cart.\n",
      "qwe3 removed.\n"
     ]
    }
   ],
   "source": [
    "class ShoppingCart(object):\n",
    "    \"\"\"Creates shopping cart objects\n",
    "    for users of our fine website.\"\"\"\n",
    "    \n",
    "    items_in_cart = {}\n",
    "    \n",
    "    def __init__(self, customer_name):\n",
    "        self.customer_name = customer_name\n",
    "\n",
    "    def add_item(self, product, price):\n",
    "        \"\"\"Add product to the cart.\"\"\"\n",
    "        if not product in self.items_in_cart:\n",
    "            self.items_in_cart[product] = price\n",
    "            print product + \" added.\"\n",
    "        else:\n",
    "            print product + \" is already in the cart.\"\n",
    "\n",
    "    def remove_item(self, product):\n",
    "        \"\"\"Remove product from the cart.\"\"\"\n",
    "        if product in self.items_in_cart:\n",
    "            del self.items_in_cart[product]\n",
    "            print product + \" removed.\"\n",
    "        else:\n",
    "            print product + \" is not in the cart.\"\n",
    "            \n",
    "my_cart = ShoppingCart(\"viki\")\n",
    "my_cart.add_item(\"qwe\",12)\n",
    "my_cart.add_item(\"qwe1\",123)\n",
    "my_cart.add_item(\"qwe2\",212)\n",
    "my_cart.add_item(\"qwe3\",122)\n",
    "my_cart.add_item(\"qwe4\",121)\n",
    "my_cart.remove_item(\"qwe5\")\n",
    "my_cart.remove_item(\"qwe3\")\n"
   ]
  },
  {
   "cell_type": "code",
   "execution_count": 4,
   "metadata": {
    "collapsed": false
   },
   "outputs": [
    {
     "name": "stdout",
     "output_type": "stream",
     "text": [
      "I'm a string that stands in for the contents of your shopping cart!\n",
      "I'm a string that stands in for your order history!\n"
     ]
    }
   ],
   "source": [
    "#Inheritance\n",
    "class Customer(object):\n",
    "    \"\"\"Produces objects that represent customers.\"\"\"\n",
    "    def __init__(self, customer_id):\n",
    "        self.customer_id = customer_id\n",
    "\n",
    "    def display_cart(self):\n",
    "        print \"I'm a string that stands in for the contents of your shopping cart!\"\n",
    "\n",
    "class ReturningCustomer(Customer):\n",
    "    \"\"\"For customers of the repeat variety.\"\"\"\n",
    "    def display_order_history(self):\n",
    "        print \"I'm a string that stands in for your order history!\"\n",
    "\n",
    "monty_python = ReturningCustomer(\"ID: 12345\")\n",
    "monty_python.display_cart()\n",
    "monty_python.display_order_history()"
   ]
  },
  {
   "cell_type": "code",
   "execution_count": 6,
   "metadata": {
    "collapsed": false
   },
   "outputs": [
    {
     "name": "stdout",
     "output_type": "stream",
     "text": [
      "Hello, Emily\n",
      "Get back to work, Steve!\n"
     ]
    },
    {
     "data": {
      "text/plain": [
       "'Emily'"
      ]
     },
     "execution_count": 6,
     "metadata": {},
     "output_type": "execute_result"
    }
   ],
   "source": [
    "#Override\n",
    "class Employee(object):\n",
    "    def __init__(self, name):\n",
    "        self.name = name\n",
    "    def greet(self, other):\n",
    "        print \"Hello, %s\" % other.name\n",
    "\n",
    "class CEO(Employee):\n",
    "    def greet(self, other):\n",
    "        print \"Get back to work, %s!\" % other.name\n",
    "\n",
    "ceo = CEO(\"Emily\")\n",
    "emp = Employee(\"Steve\")\n",
    "emp.greet(ceo)\n",
    "ceo.greet(emp)\n",
    "ceo.name"
   ]
  },
  {
   "cell_type": "code",
   "execution_count": 16,
   "metadata": {
    "collapsed": false
   },
   "outputs": [
    {
     "name": "stdout",
     "output_type": "stream",
     "text": [
      "200.0\n"
     ]
    }
   ],
   "source": [
    "#superclass\n",
    "class Employee(object):\n",
    "    \"\"\"Models real-life employees!\"\"\"\n",
    "    def __init__(self, employee_name):\n",
    "        self.employee_name = employee_name\n",
    "\n",
    "    def calculate_wage(self, hours):\n",
    "        self.hours = hours\n",
    "        return hours * 20.00\n",
    "\n",
    "# Add your code below!\n",
    "class PartTimeEmployee(Employee):\n",
    "    def calculate_wage(self,hours):\n",
    "        self.hours = hours\n",
    "        return self.hours *12\n",
    "\n",
    "    def full_time_wage(self,hours):\n",
    "        return super(PartTimeEmployee,self).calculate_wage(hours)\n",
    "\n",
    "milton = PartTimeEmployee(\"mskfj\")\n",
    "print milton.full_time_wage(10)"
   ]
  }
 ],
 "metadata": {
  "kernelspec": {
   "display_name": "Python 2",
   "language": "python",
   "name": "python2"
  },
  "language_info": {
   "codemirror_mode": {
    "name": "ipython",
    "version": 2
   },
   "file_extension": ".py",
   "mimetype": "text/x-python",
   "name": "python",
   "nbconvert_exporter": "python",
   "pygments_lexer": "ipython2",
   "version": "2.7.6"
  }
 },
 "nbformat": 4,
 "nbformat_minor": 0
}
